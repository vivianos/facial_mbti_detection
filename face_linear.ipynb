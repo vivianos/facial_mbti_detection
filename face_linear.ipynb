{
 "cells": [
  {
   "cell_type": "code",
   "execution_count": 97,
   "metadata": {},
   "outputs": [],
   "source": [
    "import pandas as pd\n",
    "import numpy as np\n",
    "import sklearn\n",
    "from sklearn import linear_model\n",
    "from sklearn.utils import shuffle\n",
    "from sklearn.preprocessing import LabelEncoder"
   ]
  },
  {
   "cell_type": "code",
   "execution_count": 98,
   "metadata": {},
   "outputs": [],
   "source": [
    "df = pd.read_pickle(\"data.pkl\")"
   ]
  },
  {
   "cell_type": "code",
   "execution_count": 99,
   "metadata": {},
   "outputs": [
    {
     "data": {
      "text/html": [
       "<div>\n",
       "<style scoped>\n",
       "    .dataframe tbody tr th:only-of-type {\n",
       "        vertical-align: middle;\n",
       "    }\n",
       "\n",
       "    .dataframe tbody tr th {\n",
       "        vertical-align: top;\n",
       "    }\n",
       "\n",
       "    .dataframe thead th {\n",
       "        text-align: right;\n",
       "    }\n",
       "</style>\n",
       "<table border=\"1\" class=\"dataframe\">\n",
       "  <thead>\n",
       "    <tr style=\"text-align: right;\">\n",
       "      <th></th>\n",
       "      <th>type</th>\n",
       "      <th>inside_eye</th>\n",
       "      <th>outside_eye</th>\n",
       "      <th>jaw</th>\n",
       "      <th>temple</th>\n",
       "      <th>vert_nose</th>\n",
       "    </tr>\n",
       "  </thead>\n",
       "  <tbody>\n",
       "    <tr>\n",
       "      <th>0</th>\n",
       "      <td>ESTJ</td>\n",
       "      <td>0.000000</td>\n",
       "      <td>0.000000</td>\n",
       "      <td>0.000000</td>\n",
       "      <td>0.000000</td>\n",
       "      <td>0.000000</td>\n",
       "    </tr>\n",
       "    <tr>\n",
       "      <th>1</th>\n",
       "      <td>ESTJ</td>\n",
       "      <td>0.000000</td>\n",
       "      <td>0.000000</td>\n",
       "      <td>0.000000</td>\n",
       "      <td>0.000000</td>\n",
       "      <td>0.000000</td>\n",
       "    </tr>\n",
       "    <tr>\n",
       "      <th>2</th>\n",
       "      <td>ESTJ</td>\n",
       "      <td>24.083189</td>\n",
       "      <td>56.142675</td>\n",
       "      <td>50.009999</td>\n",
       "      <td>96.020831</td>\n",
       "      <td>38.209946</td>\n",
       "    </tr>\n",
       "    <tr>\n",
       "      <th>3</th>\n",
       "      <td>ESTJ</td>\n",
       "      <td>0.000000</td>\n",
       "      <td>0.000000</td>\n",
       "      <td>0.000000</td>\n",
       "      <td>0.000000</td>\n",
       "      <td>0.000000</td>\n",
       "    </tr>\n",
       "    <tr>\n",
       "      <th>4</th>\n",
       "      <td>ESTJ</td>\n",
       "      <td>0.000000</td>\n",
       "      <td>0.000000</td>\n",
       "      <td>0.000000</td>\n",
       "      <td>0.000000</td>\n",
       "      <td>0.000000</td>\n",
       "    </tr>\n",
       "  </tbody>\n",
       "</table>\n",
       "</div>"
      ],
      "text/plain": [
       "   type  inside_eye  outside_eye        jaw     temple  vert_nose\n",
       "0  ESTJ    0.000000     0.000000   0.000000   0.000000   0.000000\n",
       "1  ESTJ    0.000000     0.000000   0.000000   0.000000   0.000000\n",
       "2  ESTJ   24.083189    56.142675  50.009999  96.020831  38.209946\n",
       "3  ESTJ    0.000000     0.000000   0.000000   0.000000   0.000000\n",
       "4  ESTJ    0.000000     0.000000   0.000000   0.000000   0.000000"
      ]
     },
     "execution_count": 99,
     "metadata": {},
     "output_type": "execute_result"
    }
   ],
   "source": [
    "df.head()"
   ]
  },
  {
   "cell_type": "code",
   "execution_count": 100,
   "metadata": {},
   "outputs": [],
   "source": [
    "clean_df = df[(df.inside_eye > 0) & (df.outside_eye > 0) &(df.jaw > 0) & (df.temple > 0) & (df.vert_nose > 0)]"
   ]
  },
  {
   "cell_type": "code",
   "execution_count": 101,
   "metadata": {},
   "outputs": [
    {
     "data": {
      "text/html": [
       "<div>\n",
       "<style scoped>\n",
       "    .dataframe tbody tr th:only-of-type {\n",
       "        vertical-align: middle;\n",
       "    }\n",
       "\n",
       "    .dataframe tbody tr th {\n",
       "        vertical-align: top;\n",
       "    }\n",
       "\n",
       "    .dataframe thead th {\n",
       "        text-align: right;\n",
       "    }\n",
       "</style>\n",
       "<table border=\"1\" class=\"dataframe\">\n",
       "  <thead>\n",
       "    <tr style=\"text-align: right;\">\n",
       "      <th></th>\n",
       "      <th>type</th>\n",
       "      <th>inside_eye</th>\n",
       "      <th>outside_eye</th>\n",
       "      <th>jaw</th>\n",
       "      <th>temple</th>\n",
       "      <th>vert_nose</th>\n",
       "    </tr>\n",
       "  </thead>\n",
       "  <tbody>\n",
       "    <tr>\n",
       "      <th>2</th>\n",
       "      <td>ESTJ</td>\n",
       "      <td>24.083189</td>\n",
       "      <td>56.142675</td>\n",
       "      <td>50.009999</td>\n",
       "      <td>96.020831</td>\n",
       "      <td>38.209946</td>\n",
       "    </tr>\n",
       "    <tr>\n",
       "      <th>5</th>\n",
       "      <td>ESTJ</td>\n",
       "      <td>41.000000</td>\n",
       "      <td>97.020616</td>\n",
       "      <td>68.308125</td>\n",
       "      <td>151.013244</td>\n",
       "      <td>57.035077</td>\n",
       "    </tr>\n",
       "    <tr>\n",
       "      <th>7</th>\n",
       "      <td>ESTJ</td>\n",
       "      <td>24.000000</td>\n",
       "      <td>58.000000</td>\n",
       "      <td>55.154329</td>\n",
       "      <td>103.004854</td>\n",
       "      <td>33.000000</td>\n",
       "    </tr>\n",
       "    <tr>\n",
       "      <th>8</th>\n",
       "      <td>ESTJ</td>\n",
       "      <td>32.062439</td>\n",
       "      <td>71.063352</td>\n",
       "      <td>60.008333</td>\n",
       "      <td>114.004386</td>\n",
       "      <td>42.011903</td>\n",
       "    </tr>\n",
       "    <tr>\n",
       "      <th>11</th>\n",
       "      <td>ESTJ</td>\n",
       "      <td>22.022716</td>\n",
       "      <td>46.043458</td>\n",
       "      <td>44.147480</td>\n",
       "      <td>84.095184</td>\n",
       "      <td>28.071338</td>\n",
       "    </tr>\n",
       "  </tbody>\n",
       "</table>\n",
       "</div>"
      ],
      "text/plain": [
       "    type  inside_eye  outside_eye        jaw      temple  vert_nose\n",
       "2   ESTJ   24.083189    56.142675  50.009999   96.020831  38.209946\n",
       "5   ESTJ   41.000000    97.020616  68.308125  151.013244  57.035077\n",
       "7   ESTJ   24.000000    58.000000  55.154329  103.004854  33.000000\n",
       "8   ESTJ   32.062439    71.063352  60.008333  114.004386  42.011903\n",
       "11  ESTJ   22.022716    46.043458  44.147480   84.095184  28.071338"
      ]
     },
     "execution_count": 101,
     "metadata": {},
     "output_type": "execute_result"
    }
   ],
   "source": [
    "clean_df.head()"
   ]
  },
  {
   "cell_type": "code",
   "execution_count": 102,
   "metadata": {},
   "outputs": [
    {
     "name": "stderr",
     "output_type": "stream",
     "text": [
      "/Users/spencerviviano/Documents/venv/ml/ml37/lib/python3.7/site-packages/ipykernel_launcher.py:4: SettingWithCopyWarning: \n",
      "A value is trying to be set on a copy of a slice from a DataFrame.\n",
      "Try using .loc[row_indexer,col_indexer] = value instead\n",
      "\n",
      "See the caveats in the documentation: https://pandas.pydata.org/pandas-docs/stable/user_guide/indexing.html#returning-a-view-versus-a-copy\n",
      "  after removing the cwd from sys.path.\n"
     ]
    },
    {
     "data": {
      "text/html": [
       "<div>\n",
       "<style scoped>\n",
       "    .dataframe tbody tr th:only-of-type {\n",
       "        vertical-align: middle;\n",
       "    }\n",
       "\n",
       "    .dataframe tbody tr th {\n",
       "        vertical-align: top;\n",
       "    }\n",
       "\n",
       "    .dataframe thead th {\n",
       "        text-align: right;\n",
       "    }\n",
       "</style>\n",
       "<table border=\"1\" class=\"dataframe\">\n",
       "  <thead>\n",
       "    <tr style=\"text-align: right;\">\n",
       "      <th></th>\n",
       "      <th>type</th>\n",
       "      <th>inside_eye</th>\n",
       "      <th>outside_eye</th>\n",
       "      <th>jaw</th>\n",
       "      <th>temple</th>\n",
       "      <th>vert_nose</th>\n",
       "      <th>type_enc</th>\n",
       "    </tr>\n",
       "  </thead>\n",
       "  <tbody>\n",
       "    <tr>\n",
       "      <th>2</th>\n",
       "      <td>ESTJ</td>\n",
       "      <td>24.083189</td>\n",
       "      <td>56.142675</td>\n",
       "      <td>50.009999</td>\n",
       "      <td>96.020831</td>\n",
       "      <td>38.209946</td>\n",
       "      <td>5</td>\n",
       "    </tr>\n",
       "    <tr>\n",
       "      <th>5</th>\n",
       "      <td>ESTJ</td>\n",
       "      <td>41.000000</td>\n",
       "      <td>97.020616</td>\n",
       "      <td>68.308125</td>\n",
       "      <td>151.013244</td>\n",
       "      <td>57.035077</td>\n",
       "      <td>5</td>\n",
       "    </tr>\n",
       "    <tr>\n",
       "      <th>7</th>\n",
       "      <td>ESTJ</td>\n",
       "      <td>24.000000</td>\n",
       "      <td>58.000000</td>\n",
       "      <td>55.154329</td>\n",
       "      <td>103.004854</td>\n",
       "      <td>33.000000</td>\n",
       "      <td>5</td>\n",
       "    </tr>\n",
       "    <tr>\n",
       "      <th>8</th>\n",
       "      <td>ESTJ</td>\n",
       "      <td>32.062439</td>\n",
       "      <td>71.063352</td>\n",
       "      <td>60.008333</td>\n",
       "      <td>114.004386</td>\n",
       "      <td>42.011903</td>\n",
       "      <td>5</td>\n",
       "    </tr>\n",
       "    <tr>\n",
       "      <th>11</th>\n",
       "      <td>ESTJ</td>\n",
       "      <td>22.022716</td>\n",
       "      <td>46.043458</td>\n",
       "      <td>44.147480</td>\n",
       "      <td>84.095184</td>\n",
       "      <td>28.071338</td>\n",
       "      <td>5</td>\n",
       "    </tr>\n",
       "  </tbody>\n",
       "</table>\n",
       "</div>"
      ],
      "text/plain": [
       "    type  inside_eye  outside_eye        jaw      temple  vert_nose  type_enc\n",
       "2   ESTJ   24.083189    56.142675  50.009999   96.020831  38.209946         5\n",
       "5   ESTJ   41.000000    97.020616  68.308125  151.013244  57.035077         5\n",
       "7   ESTJ   24.000000    58.000000  55.154329  103.004854  33.000000         5\n",
       "8   ESTJ   32.062439    71.063352  60.008333  114.004386  42.011903         5\n",
       "11  ESTJ   22.022716    46.043458  44.147480   84.095184  28.071338         5"
      ]
     },
     "execution_count": 102,
     "metadata": {},
     "output_type": "execute_result"
    }
   ],
   "source": [
    "clean_df.shape\n",
    "labelencoder = LabelEncoder()\n",
    "data = clean_df\n",
    "data['type_enc'] = data['type'].astype('category').cat.codes\n",
    "data.head()"
   ]
  },
  {
   "cell_type": "code",
   "execution_count": 103,
   "metadata": {},
   "outputs": [],
   "source": [
    "predict = \"type_enc\"\n",
    "data = data.drop('type', 1)\n",
    "X = np.array(data.drop([predict], 1))\n",
    "y = np.array(data[predict])"
   ]
  },
  {
   "cell_type": "code",
   "execution_count": 104,
   "metadata": {},
   "outputs": [
    {
     "data": {
      "text/plain": [
       "array([[ 24.08318916,  56.14267539,  50.009999  ,  96.02083107,\n",
       "         38.20994635],\n",
       "       [ 41.        ,  97.02061637,  68.30812543, 151.01324445,\n",
       "         57.03507693],\n",
       "       [ 24.        ,  58.        ,  55.15432893, 103.00485425,\n",
       "         33.        ],\n",
       "       ...,\n",
       "       [ 19.10497317,  44.28317965,  33.54101966,  82.49242389,\n",
       "         30.06659276],\n",
       "       [ 27.16615541,  58.69412236,  51.42956348,  96.87620967,\n",
       "         37.21558813],\n",
       "       [ 23.02172887,  55.08175742,  40.49691346,  83.05419917,\n",
       "         30.01666204]])"
      ]
     },
     "execution_count": 104,
     "metadata": {},
     "output_type": "execute_result"
    }
   ],
   "source": [
    "X"
   ]
  },
  {
   "cell_type": "code",
   "execution_count": 105,
   "metadata": {},
   "outputs": [
    {
     "data": {
      "text/plain": [
       "array([5, 5, 5, ..., 1, 1, 1], dtype=int8)"
      ]
     },
     "execution_count": 105,
     "metadata": {},
     "output_type": "execute_result"
    }
   ],
   "source": [
    "y"
   ]
  },
  {
   "cell_type": "code",
   "execution_count": 111,
   "metadata": {},
   "outputs": [],
   "source": [
    "x_train, x_test, y_train, y_test = sklearn.model_selection.train_test_split(X, y, test_size= 0.1)"
   ]
  },
  {
   "cell_type": "code",
   "execution_count": 112,
   "metadata": {},
   "outputs": [],
   "source": [
    "linear = linear_model.LinearRegression()"
   ]
  },
  {
   "cell_type": "code",
   "execution_count": 113,
   "metadata": {},
   "outputs": [
    {
     "data": {
      "text/plain": [
       "LinearRegression()"
      ]
     },
     "execution_count": 113,
     "metadata": {},
     "output_type": "execute_result"
    }
   ],
   "source": [
    "linear.fit(x_train, y_train)"
   ]
  },
  {
   "cell_type": "code",
   "execution_count": 114,
   "metadata": {},
   "outputs": [],
   "source": [
    "acc = linear.score(x_test, y_test)"
   ]
  },
  {
   "cell_type": "code",
   "execution_count": 115,
   "metadata": {},
   "outputs": [
    {
     "data": {
      "text/plain": [
       "0.0030420243350157694"
      ]
     },
     "execution_count": 115,
     "metadata": {},
     "output_type": "execute_result"
    }
   ],
   "source": [
    "acc"
   ]
  },
  {
   "cell_type": "code",
   "execution_count": null,
   "metadata": {},
   "outputs": [],
   "source": []
  }
 ],
 "metadata": {
  "kernelspec": {
   "display_name": "Python 3",
   "language": "python",
   "name": "python3"
  },
  "language_info": {
   "codemirror_mode": {
    "name": "ipython",
    "version": 3
   },
   "file_extension": ".py",
   "mimetype": "text/x-python",
   "name": "python",
   "nbconvert_exporter": "python",
   "pygments_lexer": "ipython3",
   "version": "3.7.9"
  }
 },
 "nbformat": 4,
 "nbformat_minor": 4
}
