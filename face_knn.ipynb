{
 "cells": [
  {
   "cell_type": "code",
   "execution_count": 1,
   "metadata": {},
   "outputs": [],
   "source": [
    "from sklearn import preprocessing\n",
    "import sklearn\n",
    "from sklearn.utils import shuffle\n",
    "from sklearn.neighbors import KNeighborsClassifier\n",
    "import pandas as pd\n",
    "import numpy as np\n",
    "from sklearn import linear_model, preprocessing"
   ]
  },
  {
   "cell_type": "code",
   "execution_count": 2,
   "metadata": {},
   "outputs": [
    {
     "data": {
      "text/html": [
       "<div>\n",
       "<style scoped>\n",
       "    .dataframe tbody tr th:only-of-type {\n",
       "        vertical-align: middle;\n",
       "    }\n",
       "\n",
       "    .dataframe tbody tr th {\n",
       "        vertical-align: top;\n",
       "    }\n",
       "\n",
       "    .dataframe thead th {\n",
       "        text-align: right;\n",
       "    }\n",
       "</style>\n",
       "<table border=\"1\" class=\"dataframe\">\n",
       "  <thead>\n",
       "    <tr style=\"text-align: right;\">\n",
       "      <th></th>\n",
       "      <th>type</th>\n",
       "      <th>inside_eye</th>\n",
       "      <th>outside_eye</th>\n",
       "      <th>jaw</th>\n",
       "      <th>temple</th>\n",
       "      <th>vert_nose</th>\n",
       "    </tr>\n",
       "  </thead>\n",
       "  <tbody>\n",
       "    <tr>\n",
       "      <th>2</th>\n",
       "      <td>ESTJ</td>\n",
       "      <td>24.083189</td>\n",
       "      <td>56.142675</td>\n",
       "      <td>50.009999</td>\n",
       "      <td>96.020831</td>\n",
       "      <td>38.209946</td>\n",
       "    </tr>\n",
       "    <tr>\n",
       "      <th>5</th>\n",
       "      <td>ESTJ</td>\n",
       "      <td>41.000000</td>\n",
       "      <td>97.020616</td>\n",
       "      <td>68.308125</td>\n",
       "      <td>151.013244</td>\n",
       "      <td>57.035077</td>\n",
       "    </tr>\n",
       "    <tr>\n",
       "      <th>7</th>\n",
       "      <td>ESTJ</td>\n",
       "      <td>24.000000</td>\n",
       "      <td>58.000000</td>\n",
       "      <td>55.154329</td>\n",
       "      <td>103.004854</td>\n",
       "      <td>33.000000</td>\n",
       "    </tr>\n",
       "    <tr>\n",
       "      <th>8</th>\n",
       "      <td>ESTJ</td>\n",
       "      <td>32.062439</td>\n",
       "      <td>71.063352</td>\n",
       "      <td>60.008333</td>\n",
       "      <td>114.004386</td>\n",
       "      <td>42.011903</td>\n",
       "    </tr>\n",
       "    <tr>\n",
       "      <th>11</th>\n",
       "      <td>ESTJ</td>\n",
       "      <td>22.022716</td>\n",
       "      <td>46.043458</td>\n",
       "      <td>44.147480</td>\n",
       "      <td>84.095184</td>\n",
       "      <td>28.071338</td>\n",
       "    </tr>\n",
       "  </tbody>\n",
       "</table>\n",
       "</div>"
      ],
      "text/plain": [
       "    type  inside_eye  outside_eye        jaw      temple  vert_nose\n",
       "2   ESTJ   24.083189    56.142675  50.009999   96.020831  38.209946\n",
       "5   ESTJ   41.000000    97.020616  68.308125  151.013244  57.035077\n",
       "7   ESTJ   24.000000    58.000000  55.154329  103.004854  33.000000\n",
       "8   ESTJ   32.062439    71.063352  60.008333  114.004386  42.011903\n",
       "11  ESTJ   22.022716    46.043458  44.147480   84.095184  28.071338"
      ]
     },
     "execution_count": 2,
     "metadata": {},
     "output_type": "execute_result"
    }
   ],
   "source": [
    "df = pd.read_pickle(\"data.pkl\")\n",
    "df = df[(df.inside_eye > 0) & (df.outside_eye > 0) &(df.jaw > 0) & (df.temple > 0) & (df.vert_nose > 0)]\n",
    "df.head()"
   ]
  },
  {
   "cell_type": "code",
   "execution_count": 3,
   "metadata": {},
   "outputs": [],
   "source": [
    "le = preprocessing.LabelEncoder()\n",
    "type_enc = le.fit_transform(list(df['type']))\n",
    "inside_eye = list(df['inside_eye'])\n",
    "outside_eye = list(df['outside_eye'])\n",
    "jaw = list(df['jaw'])\n",
    "temple = list(df['temple'])\n",
    "vert_nose = list(df['vert_nose'])"
   ]
  },
  {
   "cell_type": "code",
   "execution_count": 4,
   "metadata": {},
   "outputs": [],
   "source": [
    "X = list(zip(inside_eye, outside_eye, jaw, temple, vert_nose))"
   ]
  },
  {
   "cell_type": "code",
   "execution_count": 5,
   "metadata": {},
   "outputs": [],
   "source": [
    "y = list(type_enc)"
   ]
  },
  {
   "cell_type": "code",
   "execution_count": 26,
   "metadata": {},
   "outputs": [],
   "source": [
    "x_train, x_test, y_train, y_test = sklearn.model_selection.train_test_split(X, y, test_size = 0.1)"
   ]
  },
  {
   "cell_type": "code",
   "execution_count": 27,
   "metadata": {},
   "outputs": [],
   "source": [
    "from sklearn.neighbors import KNeighborsClassifier"
   ]
  },
  {
   "cell_type": "code",
   "execution_count": 28,
   "metadata": {},
   "outputs": [],
   "source": [
    "model = KNeighborsClassifier(n_neighbors=9)"
   ]
  },
  {
   "cell_type": "code",
   "execution_count": 29,
   "metadata": {},
   "outputs": [
    {
     "data": {
      "text/plain": [
       "KNeighborsClassifier(n_neighbors=9)"
      ]
     },
     "execution_count": 29,
     "metadata": {},
     "output_type": "execute_result"
    }
   ],
   "source": [
    "model.fit(x_train, y_train)"
   ]
  },
  {
   "cell_type": "code",
   "execution_count": 30,
   "metadata": {},
   "outputs": [
    {
     "name": "stdout",
     "output_type": "stream",
     "text": [
      "0.14473684210526316\n"
     ]
    }
   ],
   "source": [
    "acc = model.score(x_test, y_test)\n",
    "print(acc)"
   ]
  },
  {
   "cell_type": "code",
   "execution_count": null,
   "metadata": {},
   "outputs": [],
   "source": []
  }
 ],
 "metadata": {
  "kernelspec": {
   "display_name": "Python 3",
   "language": "python",
   "name": "python3"
  },
  "language_info": {
   "codemirror_mode": {
    "name": "ipython",
    "version": 3
   },
   "file_extension": ".py",
   "mimetype": "text/x-python",
   "name": "python",
   "nbconvert_exporter": "python",
   "pygments_lexer": "ipython3",
   "version": "3.7.9"
  }
 },
 "nbformat": 4,
 "nbformat_minor": 4
}
